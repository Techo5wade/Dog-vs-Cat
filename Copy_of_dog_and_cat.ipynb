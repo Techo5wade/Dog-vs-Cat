{
  "nbformat": 4,
  "nbformat_minor": 0,
  "metadata": {
    "colab": {
      "provenance": []
    },
    "kernelspec": {
      "name": "python3",
      "display_name": "Python 3"
    },
    "language_info": {
      "name": "python"
    }
  },
  "cells": [
    {
      "cell_type": "code",
      "execution_count": null,
      "metadata": {
        "colab": {
          "base_uri": "https://localhost:8080/"
        },
        "id": "687aCrMPGnMC",
        "outputId": "eecb0323-14ca-4324-dd6d-5286dc1c46f2"
      },
      "outputs": [
        {
          "output_type": "stream",
          "name": "stdout",
          "text": [
            "Requirement already satisfied: kaggle in /usr/local/lib/python3.10/dist-packages (1.6.12)\n",
            "Requirement already satisfied: six>=1.10 in /usr/local/lib/python3.10/dist-packages (from kaggle) (1.16.0)\n",
            "Requirement already satisfied: certifi>=2023.7.22 in /usr/local/lib/python3.10/dist-packages (from kaggle) (2024.2.2)\n",
            "Requirement already satisfied: python-dateutil in /usr/local/lib/python3.10/dist-packages (from kaggle) (2.8.2)\n",
            "Requirement already satisfied: requests in /usr/local/lib/python3.10/dist-packages (from kaggle) (2.31.0)\n",
            "Requirement already satisfied: tqdm in /usr/local/lib/python3.10/dist-packages (from kaggle) (4.66.4)\n",
            "Requirement already satisfied: python-slugify in /usr/local/lib/python3.10/dist-packages (from kaggle) (8.0.4)\n",
            "Requirement already satisfied: urllib3 in /usr/local/lib/python3.10/dist-packages (from kaggle) (2.0.7)\n",
            "Requirement already satisfied: bleach in /usr/local/lib/python3.10/dist-packages (from kaggle) (6.1.0)\n",
            "Requirement already satisfied: webencodings in /usr/local/lib/python3.10/dist-packages (from bleach->kaggle) (0.5.1)\n",
            "Requirement already satisfied: text-unidecode>=1.3 in /usr/local/lib/python3.10/dist-packages (from python-slugify->kaggle) (1.3)\n",
            "Requirement already satisfied: charset-normalizer<4,>=2 in /usr/local/lib/python3.10/dist-packages (from requests->kaggle) (3.3.2)\n",
            "Requirement already satisfied: idna<4,>=2.5 in /usr/local/lib/python3.10/dist-packages (from requests->kaggle) (3.7)\n"
          ]
        }
      ],
      "source": [
        "# install the kaggle library\n",
        "! pip install kaggle"
      ]
    },
    {
      "cell_type": "code",
      "source": [
        "import os\n",
        "os.makedirs('/root/.kaggle', exist_ok=True)\n",
        "!cp kaggle.json /root/.kaggle/\n",
        "\n"
      ],
      "metadata": {
        "id": "-PYddbwgLaio",
        "colab": {
          "base_uri": "https://localhost:8080/"
        },
        "outputId": "5d766496-cbd3-4ef7-de32-05a4a8e4cb66"
      },
      "execution_count": null,
      "outputs": [
        {
          "output_type": "stream",
          "name": "stdout",
          "text": [
            "cp: cannot stat 'kaggle.json': No such file or directory\n"
          ]
        }
      ]
    },
    {
      "cell_type": "code",
      "source": [
        "# configuration the path of kaggle.json file\n",
        "\n",
        "!chmod 600 /root/.kaggle/kaggle.json\n"
      ],
      "metadata": {
        "id": "IcHH0sY4JGJL",
        "colab": {
          "base_uri": "https://localhost:8080/"
        },
        "outputId": "d1fdbf1f-8e92-4949-b66c-873618c4ccd3"
      },
      "execution_count": null,
      "outputs": [
        {
          "output_type": "stream",
          "name": "stdout",
          "text": [
            "chmod: cannot access '/root/.kaggle/kaggle.json': No such file or directory\n"
          ]
        }
      ]
    },
    {
      "cell_type": "markdown",
      "source": [
        "importing the dog vs cat dataset from kaggle"
      ],
      "metadata": {
        "id": "sKOXslWjKiml"
      }
    },
    {
      "cell_type": "code",
      "source": [
        "#kaggle api\n",
        "!kaggle competitions download -c dogs-vs-cats\n",
        "\n"
      ],
      "metadata": {
        "colab": {
          "base_uri": "https://localhost:8080/"
        },
        "id": "XltfHpg1Kg2U",
        "outputId": "5f5f2df4-acd8-4b78-d3bd-78fa7cf0a7e0"
      },
      "execution_count": null,
      "outputs": [
        {
          "output_type": "stream",
          "name": "stdout",
          "text": [
            "Traceback (most recent call last):\n",
            "  File \"/usr/local/bin/kaggle\", line 5, in <module>\n",
            "    from kaggle.cli import main\n",
            "  File \"/usr/local/lib/python3.10/dist-packages/kaggle/__init__.py\", line 7, in <module>\n",
            "    api.authenticate()\n",
            "  File \"/usr/local/lib/python3.10/dist-packages/kaggle/api/kaggle_api_extended.py\", line 398, in authenticate\n",
            "    raise IOError('Could not find {}. Make sure it\\'s located in'\n",
            "OSError: Could not find kaggle.json. Make sure it's located in /root/.kaggle. Or use the environment method.\n"
          ]
        }
      ]
    },
    {
      "cell_type": "code",
      "source": [
        "# extracting the compressed datset\n",
        "from zipfile import ZipFile\n",
        "\n",
        "dataset = '/content/dogs-vs-cats.zip'\n",
        "with ZipFile(dataset , 'r') as zip :\n",
        "  zip.extractall()\n",
        "  print ('The dataset is extracted')"
      ],
      "metadata": {
        "colab": {
          "base_uri": "https://localhost:8080/"
        },
        "id": "uzrcIWkJKzg9",
        "outputId": "78a6a840-b645-4223-e11a-10f83ec9f57d"
      },
      "execution_count": null,
      "outputs": [
        {
          "output_type": "error",
          "ename": "FileNotFoundError",
          "evalue": "[Errno 2] No such file or directory: '/content/dogs-vs-cats.zip'",
          "traceback": [
            "\u001b[0;31m---------------------------------------------------------------------------\u001b[0m",
            "\u001b[0;31mFileNotFoundError\u001b[0m                         Traceback (most recent call last)",
            "\u001b[0;32m<ipython-input-10-33651bd74d61>\u001b[0m in \u001b[0;36m<cell line: 5>\u001b[0;34m()\u001b[0m\n\u001b[1;32m      3\u001b[0m \u001b[0;34m\u001b[0m\u001b[0m\n\u001b[1;32m      4\u001b[0m \u001b[0mdataset\u001b[0m \u001b[0;34m=\u001b[0m \u001b[0;34m'/content/dogs-vs-cats.zip'\u001b[0m\u001b[0;34m\u001b[0m\u001b[0;34m\u001b[0m\u001b[0m\n\u001b[0;32m----> 5\u001b[0;31m \u001b[0;32mwith\u001b[0m \u001b[0mZipFile\u001b[0m\u001b[0;34m(\u001b[0m\u001b[0mdataset\u001b[0m \u001b[0;34m,\u001b[0m \u001b[0;34m'r'\u001b[0m\u001b[0;34m)\u001b[0m \u001b[0;32mas\u001b[0m \u001b[0mzip\u001b[0m \u001b[0;34m:\u001b[0m\u001b[0;34m\u001b[0m\u001b[0;34m\u001b[0m\u001b[0m\n\u001b[0m\u001b[1;32m      6\u001b[0m   \u001b[0mzip\u001b[0m\u001b[0;34m.\u001b[0m\u001b[0mextractall\u001b[0m\u001b[0;34m(\u001b[0m\u001b[0;34m)\u001b[0m\u001b[0;34m\u001b[0m\u001b[0;34m\u001b[0m\u001b[0m\n\u001b[1;32m      7\u001b[0m   \u001b[0mprint\u001b[0m \u001b[0;34m(\u001b[0m\u001b[0;34m'The dataset is extracted'\u001b[0m\u001b[0;34m)\u001b[0m\u001b[0;34m\u001b[0m\u001b[0;34m\u001b[0m\u001b[0m\n",
            "\u001b[0;32m/usr/lib/python3.10/zipfile.py\u001b[0m in \u001b[0;36m__init__\u001b[0;34m(self, file, mode, compression, allowZip64, compresslevel, strict_timestamps)\u001b[0m\n\u001b[1;32m   1249\u001b[0m             \u001b[0;32mwhile\u001b[0m \u001b[0;32mTrue\u001b[0m\u001b[0;34m:\u001b[0m\u001b[0;34m\u001b[0m\u001b[0;34m\u001b[0m\u001b[0m\n\u001b[1;32m   1250\u001b[0m                 \u001b[0;32mtry\u001b[0m\u001b[0;34m:\u001b[0m\u001b[0;34m\u001b[0m\u001b[0;34m\u001b[0m\u001b[0m\n\u001b[0;32m-> 1251\u001b[0;31m                     \u001b[0mself\u001b[0m\u001b[0;34m.\u001b[0m\u001b[0mfp\u001b[0m \u001b[0;34m=\u001b[0m \u001b[0mio\u001b[0m\u001b[0;34m.\u001b[0m\u001b[0mopen\u001b[0m\u001b[0;34m(\u001b[0m\u001b[0mfile\u001b[0m\u001b[0;34m,\u001b[0m \u001b[0mfilemode\u001b[0m\u001b[0;34m)\u001b[0m\u001b[0;34m\u001b[0m\u001b[0;34m\u001b[0m\u001b[0m\n\u001b[0m\u001b[1;32m   1252\u001b[0m                 \u001b[0;32mexcept\u001b[0m \u001b[0mOSError\u001b[0m\u001b[0;34m:\u001b[0m\u001b[0;34m\u001b[0m\u001b[0;34m\u001b[0m\u001b[0m\n\u001b[1;32m   1253\u001b[0m                     \u001b[0;32mif\u001b[0m \u001b[0mfilemode\u001b[0m \u001b[0;32min\u001b[0m \u001b[0mmodeDict\u001b[0m\u001b[0;34m:\u001b[0m\u001b[0;34m\u001b[0m\u001b[0;34m\u001b[0m\u001b[0m\n",
            "\u001b[0;31mFileNotFoundError\u001b[0m: [Errno 2] No such file or directory: '/content/dogs-vs-cats.zip'"
          ]
        }
      ]
    },
    {
      "cell_type": "code",
      "source": [
        "# extracting the compressed datset\n",
        "from zipfile import ZipFile\n",
        "\n",
        "dataset = '/content/train.zip'\n",
        "with ZipFile(dataset , 'r') as zip :\n",
        "  zip.extractall()\n",
        "  print ('The dataset is extracted')"
      ],
      "metadata": {
        "id": "vHM7xHkqONET"
      },
      "execution_count": null,
      "outputs": []
    },
    {
      "cell_type": "code",
      "source": [
        "import os\n",
        "# counting the number of files in train folder\n",
        "path, dirs , files = next(os.walk('/content/train'))\n",
        "file_count= len(files)\n",
        "print ('number of images', file_count)"
      ],
      "metadata": {
        "id": "Lrs8z66cQQMD"
      },
      "execution_count": null,
      "outputs": []
    },
    {
      "cell_type": "markdown",
      "source": [
        "printing the name of images"
      ],
      "metadata": {
        "id": "-swofu23Q200"
      }
    },
    {
      "cell_type": "code",
      "source": [
        "file_names = os.listdir('/content/train/')\n",
        "print (file_names)"
      ],
      "metadata": {
        "id": "j3udNOolQaP0"
      },
      "execution_count": null,
      "outputs": []
    },
    {
      "cell_type": "markdown",
      "source": [
        "IMport all the dependencies"
      ],
      "metadata": {
        "id": "awP8bT_HRU-p"
      }
    },
    {
      "cell_type": "code",
      "source": [
        "import numpy as np\n",
        "from PIL import Image\n",
        "import matplotlib.pyplot as plt\n",
        "import matplotlib.image as mpimg\n",
        "from sklearn.model_selection import train_test_split\n",
        "from google.colab.patches import cv2_imshow"
      ],
      "metadata": {
        "id": "9YCr9pH5RFBj"
      },
      "execution_count": null,
      "outputs": []
    },
    {
      "cell_type": "markdown",
      "source": [
        "Displaying the images of thre dog abnd cat\n"
      ],
      "metadata": {
        "id": "7FarKOs0Sf3H"
      }
    },
    {
      "cell_type": "code",
      "source": [
        "# display the dog image\n",
        "img = mpimg.imread('/content/train/dog.6242.jpg')\n",
        "imgplot = plt.imshow(img)\n",
        "plt.show()"
      ],
      "metadata": {
        "id": "QMMbyFPOSajS"
      },
      "execution_count": null,
      "outputs": []
    },
    {
      "cell_type": "code",
      "source": [
        "# display the cat image\n",
        "img = mpimg.imread('/content/train/cat.9107.jpg')\n",
        "imgplot = plt.imshow(img)\n",
        "plt.show()"
      ],
      "metadata": {
        "id": "2Tupgrd9Szjt"
      },
      "execution_count": null,
      "outputs": []
    },
    {
      "cell_type": "code",
      "source": [
        "file_names = os.listdir('/content/train/')\n",
        "\n",
        "for i in range (5):\n",
        "  name = file_names[i]\n",
        "  print (name[0:3])\n"
      ],
      "metadata": {
        "id": "TQXyZB4GVbOQ"
      },
      "execution_count": null,
      "outputs": []
    },
    {
      "cell_type": "code",
      "source": [
        "file_names = os.listdir('/content/train/')\n",
        "\n",
        "dog_count=0\n",
        "cat_count=0\n",
        "\n",
        "for img_file in file_names:\n",
        "\n",
        "  name = img_file[0:3]\n",
        "\n",
        "  if name == 'dog':\n",
        "    dog_count+=1\n",
        "\n",
        "  else :\n",
        "    cat_count+=1\n",
        "print('number of dog images = ', dog_count)\n",
        "print('number of cat images = ', cat_count)\n"
      ],
      "metadata": {
        "id": "rOEmKQf9WL_N"
      },
      "execution_count": null,
      "outputs": []
    },
    {
      "cell_type": "markdown",
      "source": [
        "Resizing all the images"
      ],
      "metadata": {
        "id": "oT4cVtaKUw75"
      }
    },
    {
      "cell_type": "code",
      "source": [
        "# creating the directory for resized images\n",
        "os.mkdir('/content/image resized')"
      ],
      "metadata": {
        "id": "XWO-cXL4UPAA"
      },
      "execution_count": null,
      "outputs": []
    },
    {
      "cell_type": "code",
      "source": [
        "original_folder = '/content/train/'\n",
        "resized_folder = '/content/image resized/'\n",
        "\n",
        "for i in range (2000):\n",
        "\n",
        "  filename = os.listdir(original_folder)[i]\n",
        "  img_path = original_folder+filename\n",
        "\n",
        "  img = Image.open(img_path)\n",
        "  img = img.resize((224 , 224))\n",
        "  img = img.convert('RGB')\n",
        "\n",
        "  newImgPath = resized_folder+filename\n",
        "  img.save(newImgPath)"
      ],
      "metadata": {
        "id": "hf03pNECXhVH"
      },
      "execution_count": null,
      "outputs": []
    },
    {
      "cell_type": "code",
      "source": [
        "# display the dog image\n",
        "img = mpimg.imread('/content/image resized/dog.6242.jpg')\n",
        "imgplot = plt.imshow(img)\n",
        "plt.show()"
      ],
      "metadata": {
        "id": "m0DylX5DaG0c"
      },
      "execution_count": null,
      "outputs": []
    },
    {
      "cell_type": "code",
      "source": [
        "# display the cat image\n",
        "img = mpimg.imread('/content/image resized/cat.9107.jpg')\n",
        "imgplot = plt.imshow(img)\n",
        "plt.show()"
      ],
      "metadata": {
        "id": "2kVGvGyweST9"
      },
      "execution_count": null,
      "outputs": []
    },
    {
      "cell_type": "markdown",
      "source": [
        "Creating labels for resize images of dogs and cats"
      ],
      "metadata": {
        "id": "7Rp-KN1yeuzQ"
      }
    },
    {
      "cell_type": "markdown",
      "source": [
        "cat--> 0\n",
        "dog--> 1"
      ],
      "metadata": {
        "id": "6JPsTePQe7BW"
      }
    },
    {
      "cell_type": "code",
      "source": [
        "# creating the for loop to assign labels\n",
        "filenames = os.listdir('/content/image resized/')\n",
        "\n",
        "\n",
        "labels =[]\n",
        "\n",
        "for i in range (2000):\n",
        "  file_name = filenames[i]\n",
        "  label = file_name[0:3]\n",
        "\n",
        "  if label == 'dog':\n",
        "    labels.append(1)\n",
        "  else:\n",
        "    labels.append(0)"
      ],
      "metadata": {
        "id": "R7VsY_3Zemht"
      },
      "execution_count": null,
      "outputs": []
    },
    {
      "cell_type": "code",
      "source": [
        "print(filenames[0:5])\n",
        "print(len(labels))\n"
      ],
      "metadata": {
        "id": "EdYkb02VgYMu"
      },
      "execution_count": null,
      "outputs": []
    },
    {
      "cell_type": "code",
      "source": [
        "# counting the images of dogs and cats out of 2000 images\n",
        "values, counts = np.unique(labels, return_counts = True)\n",
        "print (values)\n",
        "print(counts)\n"
      ],
      "metadata": {
        "id": "6OJyZxxMgtnX"
      },
      "execution_count": null,
      "outputs": []
    },
    {
      "cell_type": "markdown",
      "source": [
        "Converting all the resized images to numpy array"
      ],
      "metadata": {
        "id": "YcFbKh7UiGPh"
      }
    },
    {
      "cell_type": "code",
      "source": [
        "import cv2\n",
        "import glob"
      ],
      "metadata": {
        "id": "IP2JworJhqUt"
      },
      "execution_count": null,
      "outputs": []
    },
    {
      "cell_type": "code",
      "source": [
        "image_directory = '/content/image resized/'\n",
        "image_extension = ['png','jpg']\n",
        "\n",
        "files = []\n",
        "\n",
        "[files.extend(glob.glob(image_directory + \"*.\" + e )) for e in image_extension]\n",
        "\n",
        "dog_cat_images = np.asarray([cv2.imread(file) for file in files])\n"
      ],
      "metadata": {
        "id": "n9wB2K5qiV2X"
      },
      "execution_count": null,
      "outputs": []
    },
    {
      "cell_type": "code",
      "source": [
        "print(dog_cat_images)"
      ],
      "metadata": {
        "id": "kDUUxcUIjWTB"
      },
      "execution_count": null,
      "outputs": []
    },
    {
      "cell_type": "code",
      "source": [
        "type(dog_cat_images)"
      ],
      "metadata": {
        "id": "he2D5Jivj5Vl"
      },
      "execution_count": null,
      "outputs": []
    },
    {
      "cell_type": "code",
      "source": [
        "print (dog_cat_images.shape)"
      ],
      "metadata": {
        "id": "Gio_GPC-kgHV"
      },
      "execution_count": null,
      "outputs": []
    },
    {
      "cell_type": "code",
      "source": [
        "X =dog_cat_images\n",
        "Y = np.asarray(labels)"
      ],
      "metadata": {
        "id": "pibi4YeOktLo"
      },
      "execution_count": null,
      "outputs": []
    },
    {
      "cell_type": "markdown",
      "source": [
        "Train Test split"
      ],
      "metadata": {
        "id": "6s2GG_DPlRVR"
      }
    },
    {
      "cell_type": "code",
      "source": [
        "X_train, X_test , Y_train ,Y_test = train_test_split(X,Y, test_size=0.2, random_state=2)"
      ],
      "metadata": {
        "id": "SaO6jABVlPHt"
      },
      "execution_count": null,
      "outputs": []
    },
    {
      "cell_type": "code",
      "source": [
        "print (X.shape, X_train.shape, X_test.shape)"
      ],
      "metadata": {
        "id": "4XcA3oyrmB2o"
      },
      "execution_count": null,
      "outputs": []
    },
    {
      "cell_type": "markdown",
      "source": [
        "we add 1600 --> training images\n",
        "\n",
        "400 --> test images"
      ],
      "metadata": {
        "id": "soyRHT_imMTw"
      }
    },
    {
      "cell_type": "code",
      "source": [
        "# scaling hte data\n",
        "X_train_scaled = X_train/255\n",
        "\n",
        "X_test_scaled = X_test/255"
      ],
      "metadata": {
        "id": "D4RzeURtmJWN"
      },
      "execution_count": null,
      "outputs": []
    },
    {
      "cell_type": "code",
      "source": [
        "print(X_train_scaled)"
      ],
      "metadata": {
        "id": "2G2fQpE9m0Pm"
      },
      "execution_count": null,
      "outputs": []
    },
    {
      "cell_type": "markdown",
      "source": [
        "building the neaural network"
      ],
      "metadata": {
        "id": "_GbaWkvsm-hK"
      }
    },
    {
      "cell_type": "code",
      "source": [
        "import tensorflow as tf\n",
        "import tensorflow_hub as hub"
      ],
      "metadata": {
        "id": "Nbm4kTLpm6Bk"
      },
      "execution_count": null,
      "outputs": []
    },
    {
      "cell_type": "code",
      "source": [
        "mobilenet_model ='https://tfhub.dev/google/tf2-preview/mobilenet_v2/feature_vector/4'\n",
        "\n",
        "pretrained_model = hub.KerasLayer(mobilenet_model, input_shape=(224,224,3), trainable=False)"
      ],
      "metadata": {
        "id": "NnL2jlpYnIJl"
      },
      "execution_count": null,
      "outputs": []
    },
    {
      "cell_type": "code",
      "source": [
        "num_of_classes = 2\n",
        "\n",
        "model = tf.keras.Sequential([\n",
        "\n",
        "    pretrained_model,\n",
        "    tf.keras.layers.Dense(num_of_classes)\n",
        "\n",
        "])\n",
        "\n",
        "model.summary()\n",
        "Model: \"sequential\""
      ],
      "metadata": {
        "id": "mPJFL8afshbl"
      },
      "execution_count": null,
      "outputs": []
    },
    {
      "cell_type": "code",
      "source": [
        "model.compile(\n",
        "\n",
        "      optimizer = 'adam',\n",
        "      loss = tf.keras.losses.SparseCategoricalCrossentropy(from_logits=True),\n",
        "      metrics = ['acc']\n",
        "\n",
        "\n",
        ")"
      ],
      "metadata": {
        "id": "gajY_PPZueFo"
      },
      "execution_count": null,
      "outputs": []
    },
    {
      "cell_type": "code",
      "source": [
        "model.fit(X_train_scaled, Y_train, epochs=5)"
      ],
      "metadata": {
        "id": "-VZ-knljwByp"
      },
      "execution_count": null,
      "outputs": []
    },
    {
      "cell_type": "code",
      "source": [
        "score, acc = model.evaluate(X_test_scaled,Y_test)\n",
        "print('test loss = ', score)\n",
        "print ('test Accuracy = ', acc)\n"
      ],
      "metadata": {
        "id": "Tki93FnWwg7B"
      },
      "execution_count": null,
      "outputs": []
    },
    {
      "cell_type": "markdown",
      "source": [
        "predictive system\n"
      ],
      "metadata": {
        "id": "sWzlc6ea3SAg"
      }
    },
    {
      "cell_type": "code",
      "source": [
        "from google.colab.patches import cv2_imshow\n",
        "import cv2\n",
        "import numpy as np\n",
        "\n",
        "input_image_path = input('path of the image to be predicted: ')\n",
        "\n",
        "input_image = cv2.imread(input_image_path)\n",
        "\n",
        "cv2_imshow(input_image)\n",
        "\n",
        "input_image_resize = cv2.resize(input_image, (224,224))\n",
        "\n",
        "input_image_scaled = input_image_resize / 255.0\n",
        "\n",
        "image_reshaped = np.reshape(input_image_scaled, [1,224,224,3])\n",
        "\n",
        "input_prediction = model.predict(image_reshaped)\n",
        "\n",
        "print(input_prediction)\n",
        "\n",
        "input_pred_label = np.argmax(input_prediction)\n",
        "\n",
        "print(input_pred_label)\n",
        "\n",
        "if input_pred_label == 0 :\n",
        "    print('The image represents a cat.')\n",
        "else :\n",
        "    print('The image represents a dog.')\n"
      ],
      "metadata": {
        "id": "GP3EVQtl3Kyq"
      },
      "execution_count": null,
      "outputs": []
    },
    {
      "cell_type": "code",
      "source": [],
      "metadata": {
        "id": "j8tstmXm48ki"
      },
      "execution_count": null,
      "outputs": []
    }
  ]
}